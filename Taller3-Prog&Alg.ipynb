{
  "nbformat": 4,
  "nbformat_minor": 0,
  "metadata": {
    "colab": {
      "provenance": [],
      "authorship_tag": "ABX9TyOy2kPg9YvVZ5teuyOldf7m",
      "include_colab_link": true
    },
    "kernelspec": {
      "name": "python3",
      "display_name": "Python 3"
    },
    "language_info": {
      "name": "python"
    }
  },
  "cells": [
    {
      "cell_type": "markdown",
      "metadata": {
        "id": "view-in-github",
        "colab_type": "text"
      },
      "source": [
        "<a href=\"https://colab.research.google.com/github/RsJose7/Taller3-Prog-Alg/blob/main/Taller3-Prog%26Alg.ipynb\" target=\"_parent\"><img src=\"https://colab.research.google.com/assets/colab-badge.svg\" alt=\"Open In Colab\"/></a>"
      ]
    },
    {
      "cell_type": "markdown",
      "source": [
        "### ALGORITMO PARA EL CALCULO DE LA TARIFA DE UN TAXI\n",
        "\n",
        "1. Iniciar\n",
        "2. Declarar variables de distancia, tiempo de detencion, hora de inicio de viaje, total a pagar, subtotal, recargo nocturno, tarifa por kilometro y tarifa por detencion\n",
        "3. Obtener valores de distancia, tiempo de detencion, hora de inicio de viaje.\n",
        "4. Si la distancia es menor o igual a 5km, entonces calcular la tarifa por kilometro (1500 * distancia); Si la distancia es mayor a 5km y menor o igual a 15kmm, calcular (1200 * (distancia - 5) + 1500 * 5); si la distancia es mayor a 15km calcular (1500 * 5 + 1200 * 10 + 1000 * (distancia - 15)); Si la hora de inicio es menor o igual a 6 y mayor o igual a 22, la tarifa de recargo nocturno se calcula, (subtotal * 0.2)\n",
        "5. Calcular la tarifa de detencion (400 * tiempoDetencion), subtotal (tarifaBase + tarifaKm + tarifaDetencion), total (subtotal + tarifaNocturna)\n",
        "6. Mostrar distancia, tiempo de detencion, hora de incio, tarifa base, tarifa por kilometros, tarifa por detencion, subtotal, recargo nocturno y total\n",
        "7. Finalizar\n",
        "\n",
        "```\n",
        "PSEUDOCODIGO\n",
        "Program CalcularTarifaTaxi\n",
        "// Programa para calcular la tarifa de un taxi\n",
        "\n",
        "Start\n",
        "// Declarar variables\n",
        "\n",
        "Declare float distancia\n",
        "Declare integer tiempoDetencion\n",
        "Declare integer horaInicio\n",
        "Declare float totalTarifa\n",
        "Declare float subtotal\n",
        "Declare float tarifaNocturna\n",
        "Constant float tarifaBase = 6000.00\n",
        "Declare float tarifaKm\n",
        "Declare float tarifaDetencion\n",
        "\n",
        "// Pedir variables al usuario\n",
        "\n",
        "Display \"Ingrese la distancia recorrida (km): \"\n",
        "Input distancia\n",
        "Display \"Ingrese el tiempo de detencion (min): \"\n",
        "Input tiempoDetencion\n",
        "Display \"Ingrese la hora de inicio (hora): \"\n",
        "Input horaInicio\n",
        "\n",
        "If distancia <= 5 Then\n",
        "  Set tarifaKm = distancia * 1500.00\n",
        "Else If distancia <= 15 Then\n",
        "  Set tarifaKm = ((1200 * (distancia - 5))  + 1500.00 * 5)\n",
        "Else\n",
        "  Set tarifaKm = ((1500 * 5) + (1200 * 10) + (1000 * (distancia - 15)))\n",
        "End If\n",
        "\n",
        "// Calculo de la tarifa de detencion\n",
        "Set tarifaDetencion = 400 * tiempoDetencion\n",
        "\n",
        "// Calculo de subtotal\n",
        "Set subtotal = tarifaBase + tarifaKm + tarifaDetencion\n",
        "\n",
        "// Calcular tarifa nocturna\n",
        "If horaInicio <= 6 or horaInicio >= 22 Then\n",
        "  Set tarifaNocturna = subtotal * 0.20\n",
        "Else\n",
        "  Set tarifaNocturna = 0\n",
        "End If\n",
        "\n",
        "// Calculo de total de tarifa\n",
        "Set totalTarifa = subtotal + tarifaNocturna\n",
        "\n",
        "Display \"Distancia: \", distancia, \". km\"\n",
        "Display \"Tiempo de detencion: \", tiempoDetencion\n",
        "Display \"Hora de inicio: \", horaInicio\n",
        "Display \"Tarifa base: \", tarifaBase\n",
        "Display \"Tarifa por kilómetro: \", tarifaKm\n",
        "Display \"Tarifa por detencion: \", tarifaDetencion\n",
        "Display \"Tarifa noctura: \", tarifaNocturna\n",
        "Display \"Subtotal: \", subtotal\n",
        "Display \"Total de la tarifa: \", totalTarifa\n",
        "\n",
        "End\n",
        "```"
      ],
      "metadata": {
        "id": "Dsc49kSxFKXX"
      }
    },
    {
      "cell_type": "code",
      "execution_count": null,
      "metadata": {
        "colab": {
          "base_uri": "https://localhost:8080/"
        },
        "id": "14gHasF1DQM6",
        "outputId": "532481d2-8414-4eaf-9b29-8dc1cf47a8b7"
      },
      "outputs": [
        {
          "output_type": "stream",
          "name": "stdout",
          "text": [
            "Ingrese la distancia recorrida (km): 25\n",
            "Ingrese el tiempo de detencion (min): 15\n",
            "Ingrese la hora de inicio (hora): 4\n",
            "Distancia:  25.0 km\n",
            "Tiempo de detencion:  15\n",
            "Hora de inicio:  4\n",
            "Tarifa base:  6000\n",
            "Tarifa por kilómetro:  29500.0\n",
            "Tarifa por detencion:  6000\n",
            "Tarifa nocturna:  8300.0\n",
            "Subtotal:  41500.0\n",
            "Total de la tarifa:  49800.0\n"
          ]
        }
      ],
      "source": [
        "distancia = float(input(\"Ingrese la distancia recorrida (km): \"))\n",
        "tiempoDetencion = int(input(\"Ingrese el tiempo de detencion (min): \"))\n",
        "horaInicio = int(input(\"Ingrese la hora de inicio (hora): \"))\n",
        "tarifaBase = 6000\n",
        "\n",
        "if distancia <= 5:\n",
        "  tarifaKm = distancia * 1500\n",
        "elif distancia <= 15:\n",
        "  tarifaKm = ((1200 * (distancia - 5))  + 1500.00 * 5)\n",
        "else:\n",
        "  tarifaKm = ((1500 * 5) + (1200 * 10) + (1000 * (distancia - 15)))\n",
        "\n",
        "# Calculo de la tarifa de detencion\n",
        "tarifaDetencion = 400 * tiempoDetencion\n",
        "\n",
        "# Calculo de subtotal\n",
        "subtotal = tarifaBase + tarifaKm + tarifaDetencion\n",
        "\n",
        "# Calcular tarifa nocturna\n",
        "if horaInicio <= 6 or horaInicio >= 22:\n",
        "  tarifaNocturna = subtotal * 0.20\n",
        "else:\n",
        "  tarifaNocturna = 0\n",
        "\n",
        "# Calculo de total de tarifa\n",
        "totalTarifa = subtotal + tarifaNocturna\n",
        "\n",
        "print(\"Distancia: $\", distancia, \"km\")\n",
        "print(\"Tiempo de detencion: $\", tiempoDetencion)\n",
        "print(\"Hora de inicio: $\", horaInicio)\n",
        "print(\"Tarifa base: $\", tarifaBase)\n",
        "print(\"Tarifa por kilómetro: $\", tarifaKm)\n",
        "print(\"Tarifa por detencion: $\", tarifaDetencion)\n",
        "print(\"Tarifa nocturna: \", tarifaNocturna)\n",
        "print(\"Subtotal: \", subtotal)\n",
        "print(\"Total de la tarifa: \", totalTarifa)"
      ]
    }
  ]
}